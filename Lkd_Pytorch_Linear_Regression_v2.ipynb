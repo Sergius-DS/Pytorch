{
  "nbformat": 4,
  "nbformat_minor": 0,
  "metadata": {
    "colab": {
      "provenance": [],
      "authorship_tag": "ABX9TyMSTitvLXMCgrZdlW0FALM8",
      "include_colab_link": true
    },
    "kernelspec": {
      "name": "python3",
      "display_name": "Python 3"
    },
    "language_info": {
      "name": "python"
    }
  },
  "cells": [
    {
      "cell_type": "markdown",
      "metadata": {
        "id": "view-in-github",
        "colab_type": "text"
      },
      "source": [
        "<a href=\"https://colab.research.google.com/github/Sergius-DS/Pytorch/blob/main/Lkd_Pytorch_Linear_Regression_v2.ipynb\" target=\"_parent\"><img src=\"https://colab.research.google.com/assets/colab-badge.svg\" alt=\"Open In Colab\"/></a>"
      ]
    },
    {
      "cell_type": "markdown",
      "source": [
        "# CONSTRUIR UNA FUNCIÓN PARA VISUALIZAR"
      ],
      "metadata": {
        "id": "Oot4GrBOwOxF"
      }
    },
    {
      "cell_type": "code",
      "source": [
        "import torch\n",
        "from torch import nn\n",
        "import matplotlib.pyplot as plt"
      ],
      "metadata": {
        "id": "JRPoQ0gO-8Cj"
      },
      "execution_count": null,
      "outputs": []
    },
    {
      "cell_type": "code",
      "source": [
        "device = \"cuda\" if torch.cuda.is_available() else \"cpu\""
      ],
      "metadata": {
        "id": "rzQwBCJkKB9_"
      },
      "execution_count": null,
      "outputs": []
    },
    {
      "cell_type": "code",
      "source": [
        "def plot_predictions(train_data,\n",
        "                     train_labels,\n",
        "                     test_data,\n",
        "                     test_labels,\n",
        "                     predictions=None):\n",
        "  \"\"\"\n",
        "  Plots training data, test data and compares predictions.\n",
        "  \"\"\"\n",
        "  plt.figure(figsize=(10,6))\n",
        "  #Plot training data in BLUE\n",
        "  plt.scatter(train_data, train_labels, c=\"b\", s=4, label=\"Training data\")\n",
        "  #Plot test data in GREEN\n",
        "  plt.scatter(test_data, test_labels, c=\"g\", s=4, label=\"Testing data\")\n",
        "  #Plot predictions if they exist\n",
        "  if predictions is not None:\n",
        "    plt.scatter(test_data, predictions, c=\"r\", s=4, label=\"Predictions\")\n",
        "  plt.legend(prop={\"size\":14})\n"
      ],
      "metadata": {
        "id": "TwqjyqUyKJiO"
      },
      "execution_count": null,
      "outputs": []
    },
    {
      "cell_type": "markdown",
      "source": [
        "# COMENZAR CON EL MODELO LINEAL"
      ],
      "metadata": {
        "id": "OpSQTgMm_U5I"
      }
    },
    {
      "cell_type": "code",
      "source": [
        "weight = 0.8\n",
        "bias = 0.4\n",
        "start = 0\n",
        "end = 1\n",
        "step = 0.01\n",
        "\n",
        "X_regression = torch.arange(start, end, step).unsqueeze(dim=1)\n",
        "y_regression = weight * X_regression + bias"
      ],
      "metadata": {
        "id": "S7Y_ABpBMouw"
      },
      "execution_count": null,
      "outputs": []
    },
    {
      "cell_type": "code",
      "source": [
        "X_regression[:5]"
      ],
      "metadata": {
        "id": "Lvq6QL-D_Ry4",
        "colab": {
          "base_uri": "https://localhost:8080/"
        },
        "outputId": "fe9bd988-8236-461a-e759-03cba1716b45"
      },
      "execution_count": null,
      "outputs": [
        {
          "output_type": "execute_result",
          "data": {
            "text/plain": [
              "tensor([[0.0000],\n",
              "        [0.0100],\n",
              "        [0.0200],\n",
              "        [0.0300],\n",
              "        [0.0400]])"
            ]
          },
          "metadata": {},
          "execution_count": 24
        }
      ]
    },
    {
      "cell_type": "code",
      "source": [
        "y_regression[:5]"
      ],
      "metadata": {
        "colab": {
          "base_uri": "https://localhost:8080/"
        },
        "id": "kMuthuCvMN_-",
        "outputId": "aee62d6f-31ba-4180-dae3-70cff42c95e3"
      },
      "execution_count": null,
      "outputs": [
        {
          "output_type": "execute_result",
          "data": {
            "text/plain": [
              "tensor([[0.4000],\n",
              "        [0.4080],\n",
              "        [0.4160],\n",
              "        [0.4240],\n",
              "        [0.4320]])"
            ]
          },
          "metadata": {},
          "execution_count": 25
        }
      ]
    },
    {
      "cell_type": "code",
      "source": [
        "#Separar Set de Entrenamiento y Prueba\n",
        "train_split = int(0.8 * len(X_regression))\n",
        "X_train_regression, y_train_regression = X_regression[:train_split], y_regression[:train_split]\n",
        "X_test_regression, y_test_regression = X_regression[train_split:], y_regression[train_split:]"
      ],
      "metadata": {
        "id": "2SBToVN_NSao"
      },
      "execution_count": null,
      "outputs": []
    },
    {
      "cell_type": "code",
      "source": [
        "#Visualizar lo avanzado sin predicciones hechas\n",
        "plot_predictions(train_data=X_train_regression,\n",
        "                 train_labels=y_train_regression,\n",
        "                 test_data=X_test_regression,\n",
        "                 test_labels=y_test_regression,\n",
        "                 predictions=None)"
      ],
      "metadata": {
        "colab": {
          "base_uri": "https://localhost:8080/",
          "height": 522
        },
        "id": "qrOh5LSNNu6m",
        "outputId": "23d4c8c2-bb98-4f8f-c436-2bd86af02cf3"
      },
      "execution_count": null,
      "outputs": [
        {
          "output_type": "display_data",
          "data": {
            "text/plain": [
              "<Figure size 1000x600 with 1 Axes>"
            ],
            "image/png": "[encoded data removed]"
          },
          "metadata": {}
        }
      ]
    },
    {
      "cell_type": "code",
      "source": [
        "X_train_regression[:8]"
      ],
      "metadata": {
        "id": "iBt_Bw0LPZka",
        "colab": {
          "base_uri": "https://localhost:8080/"
        },
        "outputId": "d0e2b0f3-bd78-4eb0-94db-2ae07e6c4d31"
      },
      "execution_count": null,
      "outputs": [
        {
          "output_type": "execute_result",
          "data": {
            "text/plain": [
              "tensor([[0.0000],\n",
              "        [0.0100],\n",
              "        [0.0200],\n",
              "        [0.0300],\n",
              "        [0.0400],\n",
              "        [0.0500],\n",
              "        [0.0600],\n",
              "        [0.0700]])"
            ]
          },
          "metadata": {},
          "execution_count": 9
        }
      ]
    },
    {
      "cell_type": "code",
      "source": [
        "#Definiendo el Modelo NN\n",
        "model_1 = nn.Sequential(\n",
        "    nn.Linear(in_features=1, out_features=10),\n",
        "    nn.Linear(in_features=10, out_features=10),\n",
        "    nn.Linear(in_features=10, out_features=1)\n",
        ").to(device)"
      ],
      "metadata": {
        "id": "YFjpRgNpOzqx"
      },
      "execution_count": null,
      "outputs": []
    },
    {
      "cell_type": "code",
      "source": [
        "#Configurar la Función de Pérdida y el Optimizador\n",
        "loss_fn = nn.L1Loss()\n",
        "optimizer = torch.optim.Adam(params=model_1.parameters(), lr=0.001)"
      ],
      "metadata": {
        "id": "nadX9qTiPJ90"
      },
      "execution_count": null,
      "outputs": []
    },
    {
      "cell_type": "code",
      "source": [
        "#Entrenar el Modelo\n",
        "torch.manual_seed(48)\n",
        "torch.cuda.manual_seed(48)\n",
        "\n",
        "epochs = 1000\n",
        "\n",
        "X_train_regression, y_train_regression = X_train_regression.to(device),\\\n",
        "y_train_regression.to(device)\n",
        "X_test_regression, y_test_regression = X_test_regression.to(device),\\\n",
        "y_test_regression.to(device)\n",
        "\n",
        "#Entrenamiento\n",
        "for epoch in range(epochs):\n",
        "  y_pred = model_1(X_train_regression)\n",
        "  loss = loss_fn(y_pred, y_train_regression)\n",
        "  optimizer.zero_grad()\n",
        "  loss.backward()\n",
        "  optimizer.step()\n",
        "\n",
        "  #Prueba\n",
        "  model_1.eval()\n",
        "  with torch.inference_mode():\n",
        "    test_pred = model_1(X_test_regression)\n",
        "    test_loss = loss_fn(test_pred, y_test_regression)\n",
        "\n",
        "  #Imprimir lo que va pasando\n",
        "  if epoch % 100 == 0:\n",
        "    print(f\"Epoch: {epoch} | Loss: {loss:.5f} | Test Loss: {loss:.5f}\")"
      ],
      "metadata": {
        "colab": {
          "base_uri": "https://localhost:8080/"
        },
        "id": "uBOsjAqtPhC9",
        "outputId": "d29e3093-7a4c-45fb-8f39-8e4ef86b6368"
      },
      "execution_count": null,
      "outputs": [
        {
          "output_type": "stream",
          "name": "stdout",
          "text": [
            "Epoch: 0 | Loss: 0.86236 | Test Loss: 0.86236\n",
            "Epoch: 100 | Loss: 0.09949 | Test Loss: 0.09949\n",
            "Epoch: 200 | Loss: 0.00158 | Test Loss: 0.00158\n",
            "Epoch: 300 | Loss: 0.00137 | Test Loss: 0.00137\n",
            "Epoch: 400 | Loss: 0.00070 | Test Loss: 0.00070\n",
            "Epoch: 500 | Loss: 0.00278 | Test Loss: 0.00278\n",
            "Epoch: 600 | Loss: 0.00472 | Test Loss: 0.00472\n",
            "Epoch: 700 | Loss: 0.00280 | Test Loss: 0.00280\n",
            "Epoch: 800 | Loss: 0.00155 | Test Loss: 0.00155\n",
            "Epoch: 900 | Loss: 0.00312 | Test Loss: 0.00312\n"
          ]
        }
      ]
    },
    {
      "cell_type": "code",
      "source": [
        "#Activar Modo EVALUACIÓN\n",
        "model_1.eval()\n",
        "with torch.inference_mode():\n",
        "  y_preds = model_1(X_test_regression)\n",
        "\n",
        "  plot_predictions(\n",
        "      train_data=X_train_regression.cpu(),\n",
        "      train_labels=y_train_regression.cpu(),\n",
        "      test_data= X_test_regression.cpu(),\n",
        "      test_labels= y_test_regression.cpu(),\n",
        "      predictions= y_preds.cpu()\n",
        "  )"
      ],
      "metadata": {
        "id": "bTF1pxxOqb58",
        "colab": {
          "base_uri": "https://localhost:8080/",
          "height": 522
        },
        "outputId": "9ae5d185-b21f-4a1a-db5e-df492bd428db"
      },
      "execution_count": null,
      "outputs": [
        {
          "output_type": "display_data",
          "data": {
            "text/plain": [
              "<Figure size 1000x600 with 1 Axes>"
            ],
            "image/png": "[encoded data removed]"
          },
          "metadata": {}
        }
      ]
    }
  ]
}